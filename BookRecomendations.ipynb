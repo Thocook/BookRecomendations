{
  "nbformat": 4,
  "nbformat_minor": 0,
  "metadata": {
    "colab": {
      "provenance": []
    },
    "kernelspec": {
      "name": "python3",
      "display_name": "Python 3"
    },
    "language_info": {
      "name": "python"
    }
  },
  "cells": [
    {
      "cell_type": "code",
      "source": [
        "# Book recomendation program."
      ],
      "metadata": {
        "id": "CGBdGbqBLbMs"
      },
      "execution_count": null,
      "outputs": []
    },
    {
      "cell_type": "markdown",
      "source": [
        "# Get the data"
      ],
      "metadata": {
        "id": "Bz-zqCHd6aBX"
      }
    },
    {
      "cell_type": "code",
      "execution_count": 43,
      "metadata": {
        "id": "GWbMkTGoLGzB"
      },
      "outputs": [],
      "source": [
        "import numpy as np\n",
        "import pandas as pd\n",
        "from sklearn.metrics.pairwise import cosine_similarity\n",
        "from sklearn.feature_extraction.text import CountVectorizer"
      ]
    },
    {
      "cell_type": "code",
      "source": [
        "#load the data\n",
        "from google.colab import files\n",
        "files.upload()"
      ],
      "metadata": {
        "id": "k86SZt4DLkIO"
      },
      "execution_count": null,
      "outputs": []
    },
    {
      "cell_type": "code",
      "source": [
        "# Store the data set\n",
        "df_books = pd.read_csv('Books_FINAL.csv', encoding='unicode_escape',error_bad_lines=False)"
      ],
      "metadata": {
        "id": "1XM3T-Sb6hv7"
      },
      "execution_count": null,
      "outputs": []
    },
    {
      "cell_type": "code",
      "source": [
        "# Take a look at the data set\n",
        "df_books.head()"
      ],
      "metadata": {
        "id": "8FKuLSUnWdy9",
        "colab": {
          "base_uri": "https://localhost:8080/",
          "height": 380
        },
        "outputId": "322603ca-859a-488b-8d3f-7836ea3f1e6b"
      },
      "execution_count": 60,
      "outputs": [
        {
          "output_type": "execute_result",
          "data": {
            "text/plain": [
              "   row_id                           Title               Vendor          Tags  \\\n",
              "0       0      Bushido, the Soul of Japan         Inazo Nitobe  19th century   \n",
              "1       1        The Beautiful and Damned  F. Scott Fitzgerald  20th century   \n",
              "2       2       The Count of Monte Cristo      Alexandre Dumas  19th century   \n",
              "3       3  The Duty Of Civil Disobedience  Henry David Thoreau  19th century   \n",
              "4       4                 The Jungle Book      Rudyard Kipling  19th century   \n",
              "\n",
              "                                         Description  Location  \\\n",
              "0  Bushido: The Soul of Japan is a book written b...  Japanese   \n",
              "1  The Beautiful and Damned is a tragic novel by ...  American   \n",
              "2  The Count of Monte Cristo is an adventure nove...    French   \n",
              "3  Resistance to Civil Government, also known as ...  American   \n",
              "4  The Jungle Book by Rudyard Kipling is a collec...   English   \n",
              "\n",
              "               Category  Date  \\\n",
              "0            Philosophy  1899   \n",
              "1               Fiction  1922   \n",
              "2               Fiction  1845   \n",
              "3  Political Philosophy  1849   \n",
              "4               Fiction  1894   \n",
              "\n",
              "                                       Download Link  \\\n",
              "0  https://www.gutenberg.org/cache/epub/12096/pg1...   \n",
              "1  https://www.gutenberg.org/cache/epub/9830/pg98...   \n",
              "2  https://www.gutenberg.org/cache/epub/1184/pg11...   \n",
              "3  https://www.gutenberg.org/cache/epub/205/pg205...   \n",
              "4  https://www.gutenberg.org/cache/epub/236/pg236...   \n",
              "\n",
              "                                            WikiLink  \n",
              "0  https://en.wikipedia.org/wiki/Bushido:_The_Sou...  \n",
              "1  https://en.wikipedia.org/wiki/The_Beautiful_an...  \n",
              "2  https://en.wikipedia.org/wiki/The_Count_of_Mon...  \n",
              "3  https://en.wikipedia.org/wiki/Civil_Disobedien...  \n",
              "4      https://en.wikipedia.org/wiki/The_Jungle_Book  "
            ],
            "text/html": [
              "\n",
              "  <div id=\"df-3b8e1a10-5f62-4148-ac81-ed00f4356dd6\" class=\"colab-df-container\">\n",
              "    <div>\n",
              "<style scoped>\n",
              "    .dataframe tbody tr th:only-of-type {\n",
              "        vertical-align: middle;\n",
              "    }\n",
              "\n",
              "    .dataframe tbody tr th {\n",
              "        vertical-align: top;\n",
              "    }\n",
              "\n",
              "    .dataframe thead th {\n",
              "        text-align: right;\n",
              "    }\n",
              "</style>\n",
              "<table border=\"1\" class=\"dataframe\">\n",
              "  <thead>\n",
              "    <tr style=\"text-align: right;\">\n",
              "      <th></th>\n",
              "      <th>row_id</th>\n",
              "      <th>Title</th>\n",
              "      <th>Vendor</th>\n",
              "      <th>Tags</th>\n",
              "      <th>Description</th>\n",
              "      <th>Location</th>\n",
              "      <th>Category</th>\n",
              "      <th>Date</th>\n",
              "      <th>Download Link</th>\n",
              "      <th>WikiLink</th>\n",
              "    </tr>\n",
              "  </thead>\n",
              "  <tbody>\n",
              "    <tr>\n",
              "      <th>0</th>\n",
              "      <td>0</td>\n",
              "      <td>Bushido, the Soul of Japan</td>\n",
              "      <td>Inazo Nitobe</td>\n",
              "      <td>19th century</td>\n",
              "      <td>Bushido: The Soul of Japan is a book written b...</td>\n",
              "      <td>Japanese</td>\n",
              "      <td>Philosophy</td>\n",
              "      <td>1899</td>\n",
              "      <td>https://www.gutenberg.org/cache/epub/12096/pg1...</td>\n",
              "      <td>https://en.wikipedia.org/wiki/Bushido:_The_Sou...</td>\n",
              "    </tr>\n",
              "    <tr>\n",
              "      <th>1</th>\n",
              "      <td>1</td>\n",
              "      <td>The Beautiful and Damned</td>\n",
              "      <td>F. Scott Fitzgerald</td>\n",
              "      <td>20th century</td>\n",
              "      <td>The Beautiful and Damned is a tragic novel by ...</td>\n",
              "      <td>American</td>\n",
              "      <td>Fiction</td>\n",
              "      <td>1922</td>\n",
              "      <td>https://www.gutenberg.org/cache/epub/9830/pg98...</td>\n",
              "      <td>https://en.wikipedia.org/wiki/The_Beautiful_an...</td>\n",
              "    </tr>\n",
              "    <tr>\n",
              "      <th>2</th>\n",
              "      <td>2</td>\n",
              "      <td>The Count of Monte Cristo</td>\n",
              "      <td>Alexandre Dumas</td>\n",
              "      <td>19th century</td>\n",
              "      <td>The Count of Monte Cristo is an adventure nove...</td>\n",
              "      <td>French</td>\n",
              "      <td>Fiction</td>\n",
              "      <td>1845</td>\n",
              "      <td>https://www.gutenberg.org/cache/epub/1184/pg11...</td>\n",
              "      <td>https://en.wikipedia.org/wiki/The_Count_of_Mon...</td>\n",
              "    </tr>\n",
              "    <tr>\n",
              "      <th>3</th>\n",
              "      <td>3</td>\n",
              "      <td>The Duty Of Civil Disobedience</td>\n",
              "      <td>Henry David Thoreau</td>\n",
              "      <td>19th century</td>\n",
              "      <td>Resistance to Civil Government, also known as ...</td>\n",
              "      <td>American</td>\n",
              "      <td>Political Philosophy</td>\n",
              "      <td>1849</td>\n",
              "      <td>https://www.gutenberg.org/cache/epub/205/pg205...</td>\n",
              "      <td>https://en.wikipedia.org/wiki/Civil_Disobedien...</td>\n",
              "    </tr>\n",
              "    <tr>\n",
              "      <th>4</th>\n",
              "      <td>4</td>\n",
              "      <td>The Jungle Book</td>\n",
              "      <td>Rudyard Kipling</td>\n",
              "      <td>19th century</td>\n",
              "      <td>The Jungle Book by Rudyard Kipling is a collec...</td>\n",
              "      <td>English</td>\n",
              "      <td>Fiction</td>\n",
              "      <td>1894</td>\n",
              "      <td>https://www.gutenberg.org/cache/epub/236/pg236...</td>\n",
              "      <td>https://en.wikipedia.org/wiki/The_Jungle_Book</td>\n",
              "    </tr>\n",
              "  </tbody>\n",
              "</table>\n",
              "</div>\n",
              "    <div class=\"colab-df-buttons\">\n",
              "\n",
              "  <div class=\"colab-df-container\">\n",
              "    <button class=\"colab-df-convert\" onclick=\"convertToInteractive('df-3b8e1a10-5f62-4148-ac81-ed00f4356dd6')\"\n",
              "            title=\"Convert this dataframe to an interactive table.\"\n",
              "            style=\"display:none;\">\n",
              "\n",
              "  <svg xmlns=\"http://www.w3.org/2000/svg\" height=\"24px\" viewBox=\"0 -960 960 960\">\n",
              "    <path d=\"M120-120v-720h720v720H120Zm60-500h600v-160H180v160Zm220 220h160v-160H400v160Zm0 220h160v-160H400v160ZM180-400h160v-160H180v160Zm440 0h160v-160H620v160ZM180-180h160v-160H180v160Zm440 0h160v-160H620v160Z\"/>\n",
              "  </svg>\n",
              "    </button>\n",
              "\n",
              "  <style>\n",
              "    .colab-df-container {\n",
              "      display:flex;\n",
              "      gap: 12px;\n",
              "    }\n",
              "\n",
              "    .colab-df-convert {\n",
              "      background-color: #E8F0FE;\n",
              "      border: none;\n",
              "      border-radius: 50%;\n",
              "      cursor: pointer;\n",
              "      display: none;\n",
              "      fill: #1967D2;\n",
              "      height: 32px;\n",
              "      padding: 0 0 0 0;\n",
              "      width: 32px;\n",
              "    }\n",
              "\n",
              "    .colab-df-convert:hover {\n",
              "      background-color: #E2EBFA;\n",
              "      box-shadow: 0px 1px 2px rgba(60, 64, 67, 0.3), 0px 1px 3px 1px rgba(60, 64, 67, 0.15);\n",
              "      fill: #174EA6;\n",
              "    }\n",
              "\n",
              "    .colab-df-buttons div {\n",
              "      margin-bottom: 4px;\n",
              "    }\n",
              "\n",
              "    [theme=dark] .colab-df-convert {\n",
              "      background-color: #3B4455;\n",
              "      fill: #D2E3FC;\n",
              "    }\n",
              "\n",
              "    [theme=dark] .colab-df-convert:hover {\n",
              "      background-color: #434B5C;\n",
              "      box-shadow: 0px 1px 3px 1px rgba(0, 0, 0, 0.15);\n",
              "      filter: drop-shadow(0px 1px 2px rgba(0, 0, 0, 0.3));\n",
              "      fill: #FFFFFF;\n",
              "    }\n",
              "  </style>\n",
              "\n",
              "    <script>\n",
              "      const buttonEl =\n",
              "        document.querySelector('#df-3b8e1a10-5f62-4148-ac81-ed00f4356dd6 button.colab-df-convert');\n",
              "      buttonEl.style.display =\n",
              "        google.colab.kernel.accessAllowed ? 'block' : 'none';\n",
              "\n",
              "      async function convertToInteractive(key) {\n",
              "        const element = document.querySelector('#df-3b8e1a10-5f62-4148-ac81-ed00f4356dd6');\n",
              "        const dataTable =\n",
              "          await google.colab.kernel.invokeFunction('convertToInteractive',\n",
              "                                                    [key], {});\n",
              "        if (!dataTable) return;\n",
              "\n",
              "        const docLinkHtml = 'Like what you see? Visit the ' +\n",
              "          '<a target=\"_blank\" href=https://colab.research.google.com/notebooks/data_table.ipynb>data table notebook</a>'\n",
              "          + ' to learn more about interactive tables.';\n",
              "        element.innerHTML = '';\n",
              "        dataTable['output_type'] = 'display_data';\n",
              "        await google.colab.output.renderOutput(dataTable, element);\n",
              "        const docLink = document.createElement('div');\n",
              "        docLink.innerHTML = docLinkHtml;\n",
              "        element.appendChild(docLink);\n",
              "      }\n",
              "    </script>\n",
              "  </div>\n",
              "\n",
              "\n",
              "<div id=\"df-0ab0110d-33af-434e-91f6-dd50aeb8af1d\">\n",
              "  <button class=\"colab-df-quickchart\" onclick=\"quickchart('df-0ab0110d-33af-434e-91f6-dd50aeb8af1d')\"\n",
              "            title=\"Suggest charts\"\n",
              "            style=\"display:none;\">\n",
              "\n",
              "<svg xmlns=\"http://www.w3.org/2000/svg\" height=\"24px\"viewBox=\"0 0 24 24\"\n",
              "     width=\"24px\">\n",
              "    <g>\n",
              "        <path d=\"M19 3H5c-1.1 0-2 .9-2 2v14c0 1.1.9 2 2 2h14c1.1 0 2-.9 2-2V5c0-1.1-.9-2-2-2zM9 17H7v-7h2v7zm4 0h-2V7h2v10zm4 0h-2v-4h2v4z\"/>\n",
              "    </g>\n",
              "</svg>\n",
              "  </button>\n",
              "\n",
              "<style>\n",
              "  .colab-df-quickchart {\n",
              "      --bg-color: #E8F0FE;\n",
              "      --fill-color: #1967D2;\n",
              "      --hover-bg-color: #E2EBFA;\n",
              "      --hover-fill-color: #174EA6;\n",
              "      --disabled-fill-color: #AAA;\n",
              "      --disabled-bg-color: #DDD;\n",
              "  }\n",
              "\n",
              "  [theme=dark] .colab-df-quickchart {\n",
              "      --bg-color: #3B4455;\n",
              "      --fill-color: #D2E3FC;\n",
              "      --hover-bg-color: #434B5C;\n",
              "      --hover-fill-color: #FFFFFF;\n",
              "      --disabled-bg-color: #3B4455;\n",
              "      --disabled-fill-color: #666;\n",
              "  }\n",
              "\n",
              "  .colab-df-quickchart {\n",
              "    background-color: var(--bg-color);\n",
              "    border: none;\n",
              "    border-radius: 50%;\n",
              "    cursor: pointer;\n",
              "    display: none;\n",
              "    fill: var(--fill-color);\n",
              "    height: 32px;\n",
              "    padding: 0;\n",
              "    width: 32px;\n",
              "  }\n",
              "\n",
              "  .colab-df-quickchart:hover {\n",
              "    background-color: var(--hover-bg-color);\n",
              "    box-shadow: 0 1px 2px rgba(60, 64, 67, 0.3), 0 1px 3px 1px rgba(60, 64, 67, 0.15);\n",
              "    fill: var(--button-hover-fill-color);\n",
              "  }\n",
              "\n",
              "  .colab-df-quickchart-complete:disabled,\n",
              "  .colab-df-quickchart-complete:disabled:hover {\n",
              "    background-color: var(--disabled-bg-color);\n",
              "    fill: var(--disabled-fill-color);\n",
              "    box-shadow: none;\n",
              "  }\n",
              "\n",
              "  .colab-df-spinner {\n",
              "    border: 2px solid var(--fill-color);\n",
              "    border-color: transparent;\n",
              "    border-bottom-color: var(--fill-color);\n",
              "    animation:\n",
              "      spin 1s steps(1) infinite;\n",
              "  }\n",
              "\n",
              "  @keyframes spin {\n",
              "    0% {\n",
              "      border-color: transparent;\n",
              "      border-bottom-color: var(--fill-color);\n",
              "      border-left-color: var(--fill-color);\n",
              "    }\n",
              "    20% {\n",
              "      border-color: transparent;\n",
              "      border-left-color: var(--fill-color);\n",
              "      border-top-color: var(--fill-color);\n",
              "    }\n",
              "    30% {\n",
              "      border-color: transparent;\n",
              "      border-left-color: var(--fill-color);\n",
              "      border-top-color: var(--fill-color);\n",
              "      border-right-color: var(--fill-color);\n",
              "    }\n",
              "    40% {\n",
              "      border-color: transparent;\n",
              "      border-right-color: var(--fill-color);\n",
              "      border-top-color: var(--fill-color);\n",
              "    }\n",
              "    60% {\n",
              "      border-color: transparent;\n",
              "      border-right-color: var(--fill-color);\n",
              "    }\n",
              "    80% {\n",
              "      border-color: transparent;\n",
              "      border-right-color: var(--fill-color);\n",
              "      border-bottom-color: var(--fill-color);\n",
              "    }\n",
              "    90% {\n",
              "      border-color: transparent;\n",
              "      border-bottom-color: var(--fill-color);\n",
              "    }\n",
              "  }\n",
              "</style>\n",
              "\n",
              "  <script>\n",
              "    async function quickchart(key) {\n",
              "      const quickchartButtonEl =\n",
              "        document.querySelector('#' + key + ' button');\n",
              "      quickchartButtonEl.disabled = true;  // To prevent multiple clicks.\n",
              "      quickchartButtonEl.classList.add('colab-df-spinner');\n",
              "      try {\n",
              "        const charts = await google.colab.kernel.invokeFunction(\n",
              "            'suggestCharts', [key], {});\n",
              "      } catch (error) {\n",
              "        console.error('Error during call to suggestCharts:', error);\n",
              "      }\n",
              "      quickchartButtonEl.classList.remove('colab-df-spinner');\n",
              "      quickchartButtonEl.classList.add('colab-df-quickchart-complete');\n",
              "    }\n",
              "    (() => {\n",
              "      let quickchartButtonEl =\n",
              "        document.querySelector('#df-0ab0110d-33af-434e-91f6-dd50aeb8af1d button');\n",
              "      quickchartButtonEl.style.display =\n",
              "        google.colab.kernel.accessAllowed ? 'block' : 'none';\n",
              "    })();\n",
              "  </script>\n",
              "</div>\n",
              "    </div>\n",
              "  </div>\n"
            ]
          },
          "metadata": {},
          "execution_count": 60
        }
      ]
    },
    {
      "cell_type": "markdown",
      "source": [
        "# Clean the data"
      ],
      "metadata": {
        "id": "QK_pgaHMLxSx"
      }
    },
    {
      "cell_type": "code",
      "source": [
        "# Rename 'Vendor' column to 'Author'\n",
        "df_books.rename(columns={'Vendor': 'Author'}, inplace=True)\n",
        "\n",
        "# Clean the data by dropping na values in critical cells\n",
        "df_books = df_books.dropna(subset=['WikiLink','Location','Date','Tags','Title','Author'])\n",
        "\n",
        "\n"
      ],
      "metadata": {
        "id": "xyywOYrVPiLc"
      },
      "execution_count": 61,
      "outputs": []
    },
    {
      "cell_type": "markdown",
      "source": [
        "# Feature engineering"
      ],
      "metadata": {
        "id": "QhluGw2RLloQ"
      }
    },
    {
      "cell_type": "code",
      "source": [
        "# Create a function to combine the important columns / features\n",
        "def combine_features(data):\n",
        "    features = data.apply(lambda row: ' '.join(map(str, row)), axis=1)\n",
        "    return features"
      ],
      "metadata": {
        "id": "uWgytUFqJvsT"
      },
      "execution_count": 62,
      "outputs": []
    },
    {
      "cell_type": "code",
      "source": [
        "# Build the function that will use the wikiLink column to scrape wiki for the description\n",
        "# of the book to be put in the subject column\n",
        "\n",
        "import requests\n",
        "import pandas as pd\n",
        "from bs4 import BeautifulSoup\n",
        "import re\n",
        "import unicodedata\n",
        "\n",
        "def summarize_wiki(url, max_words=500):\n",
        "    try:\n",
        "        # Send a GET request to the Wikipedia page\n",
        "        response = requests.get(url)\n",
        "        response.raise_for_status()  # Check if the request was successful\n",
        "\n",
        "        # Parse the HTML content using BeautifulSoup\n",
        "        soup = BeautifulSoup(response.text, 'html.parser')\n",
        "\n",
        "        # Find the main content of the article\n",
        "        main_content = soup.find('div', {'id': 'mw-content-text'})\n",
        "\n",
        "        # Extract text from paragraphs\n",
        "        paragraphs = main_content.find_all('p') if main_content else []\n",
        "\n",
        "        # Join and return the first few paragraphs as a summary\n",
        "        summary_words = []\n",
        "        word_count = 0\n",
        "\n",
        "        for p in paragraphs:\n",
        "            # Remove special characters and ensure valid Unicode characters\n",
        "            words = [unicodedata.normalize('NFKD', word).encode('ascii', 'ignore').decode('utf-8') for word in re.findall(r'\\b\\w+\\b', p.get_text())]\n",
        "\n",
        "            if word_count + len(words) <= max_words:\n",
        "                summary_words.extend(words)\n",
        "                word_count += len(words)\n",
        "            else:\n",
        "                break\n",
        "\n",
        "        summary = ' '.join(summary_words)\n",
        "        return summary\n",
        "    except Exception as e:\n",
        "        print(f\"Error fetching or summarizing the content: {e}\")\n",
        "        return None\n",
        "\n",
        "\n",
        "\n",
        "# Example usage:\n",
        "wiki_url = 'https://en.wikipedia.org/wiki/Bushido:_The_Soul_of_Japan'\n",
        "summarize_wiki(wiki_url, max_words=50)"
      ],
      "metadata": {
        "id": "kLJ20-CF5ihK"
      },
      "execution_count": null,
      "outputs": []
    },
    {
      "cell_type": "code",
      "source": [
        "df_books['Subject'] = df_books['WikiLink'].apply(lambda url: summarize_wiki(url, max_words=150) if pd.notnull(url) else None)\n",
        "df_books['Subject'].head(1)"
      ],
      "metadata": {
        "id": "03LlYOyZKe-S"
      },
      "execution_count": null,
      "outputs": []
    },
    {
      "cell_type": "code",
      "source": [
        "# Create column to store combine_features\n",
        "df_books['Location_Date'] = combine_features(df_books[['Location','Date']])\n",
        "df_books['Location_Date'].head(1)"
      ],
      "metadata": {
        "id": "4MPEUW-dJwVc"
      },
      "execution_count": null,
      "outputs": []
    },
    {
      "cell_type": "markdown",
      "source": [
        "# Recomendations"
      ],
      "metadata": {
        "id": "DL-4CQ8QLXy9"
      }
    },
    {
      "cell_type": "code",
      "source": [
        "def recommend_books(book_id, df_books, top_n=5):\n",
        "    # Extract title of the book for which recommendations are needed\n",
        "    title = df_books['Title'][book_id]\n",
        "\n",
        "    # Convert the text from the new column to a matrix of word counts\n",
        "    cm = CountVectorizer().fit_transform(df_books['Location_Date'])\n",
        "\n",
        "    # do the same for the subject\n",
        "    sub = CountVectorizer().fit_transform(df_books['Subject'])\n",
        "\n",
        "    # do the same for the vendor\n",
        "    ven = CountVectorizer().fit_transform(df_books['Author'])\n",
        "\n",
        "    # do the same for the cat\n",
        "    cat = CountVectorizer().fit_transform(df_books['Category'])\n",
        "\n",
        "    # Get the cosine similarity for the combine_features\n",
        "    cs = cosine_similarity(cm)\n",
        "    subs = cosine_similarity(sub)\n",
        "    vens = cosine_similarity(ven)\n",
        "    cats = cosine_similarity(cat)\n",
        "\n",
        "    # Weight the values\n",
        "    combined_scores = 0.18 * vens + 0.05 * cs + 0.72 * subs + 0.05 * cats\n",
        "\n",
        "    # Create a list of tuples in the form (book_id, similarity score)\n",
        "    scores = list(enumerate(combined_scores[book_id]))\n",
        "\n",
        "    # Sort the list of similar books in descending order\n",
        "    sorted_scores = sorted(scores, key=lambda x: x[1], reverse=True)\n",
        "    sorted_scores = sorted_scores[1:]\n",
        "\n",
        "    # Extract the top N recommended books\n",
        "    top_n_recommendations = [(df_books.row_id.iloc[item[0]], df_books.Title.iloc[item[0]], df_books.Author.iloc[item[0]], item[1]) for item in sorted_scores[:top_n]]\n",
        "\n",
        "    return top_n_recommendations\n",
        "\n",
        "# Example usage: put in a book number between 0 and 74\n",
        "book_id = 2\n",
        "recommended_books = recommend_books(book_id, df_books, top_n=5)\n",
        "print(recommended_books)\n",
        "\n"
      ],
      "metadata": {
        "id": "bAvk8MoOBuMQ"
      },
      "execution_count": null,
      "outputs": []
    },
    {
      "cell_type": "code",
      "source": [
        "df_books['Related_Products'] = ''\n",
        "\n",
        "# Loop through all rows and populate the 'Related_Products' column with top 5 recommendations\n",
        "for index, row in df_books.iterrows():\n",
        "    book_id = int(row['row_id'])  # Convert row_id to integer\n",
        "\n",
        "    # Check if the book_id is within the valid range\n",
        "    if 0 <= book_id < len(df_books):\n",
        "        # Call the recommend_books function to get top 5 recommendations\n",
        "        recommended_books = recommend_books(book_id, df_books, top_n=5)\n",
        "\n",
        "        # Extract titles from the recommended books and join them\n",
        "        titles_str = '; '.join([item[1] for item in recommended_books])\n",
        "\n",
        "        # Update the 'Related_Products' column\n",
        "        df_books.at[index, 'Related_Products'] = titles_str\n",
        "    else:\n",
        "        # Handle the case where the book_id is out of bounds\n",
        "        df_books.at[index, 'Related_Products'] = ''\n",
        "\n"
      ],
      "metadata": {
        "id": "VkCEyTMCQami"
      },
      "execution_count": 77,
      "outputs": []
    },
    {
      "cell_type": "markdown",
      "source": [
        "# Download items"
      ],
      "metadata": {
        "id": "OqjhFFzfOw8b"
      }
    },
    {
      "cell_type": "code",
      "source": [
        "# Save the updated DataFrame to a new CSV file\n",
        "df_books.to_csv('test.csv', index=False)\n",
        "\n",
        "# Download the CSV file\n",
        "from google.colab import files\n",
        "files.download('test.csv')"
      ],
      "metadata": {
        "id": "4g28lArePlHL",
        "colab": {
          "base_uri": "https://localhost:8080/",
          "height": 17
        },
        "outputId": "5dd72ff9-d4e0-4e30-f5f3-1b16a6e20fd7"
      },
      "execution_count": 78,
      "outputs": [
        {
          "output_type": "display_data",
          "data": {
            "text/plain": [
              "<IPython.core.display.Javascript object>"
            ],
            "application/javascript": [
              "\n",
              "    async function download(id, filename, size) {\n",
              "      if (!google.colab.kernel.accessAllowed) {\n",
              "        return;\n",
              "      }\n",
              "      const div = document.createElement('div');\n",
              "      const label = document.createElement('label');\n",
              "      label.textContent = `Downloading \"${filename}\": `;\n",
              "      div.appendChild(label);\n",
              "      const progress = document.createElement('progress');\n",
              "      progress.max = size;\n",
              "      div.appendChild(progress);\n",
              "      document.body.appendChild(div);\n",
              "\n",
              "      const buffers = [];\n",
              "      let downloaded = 0;\n",
              "\n",
              "      const channel = await google.colab.kernel.comms.open(id);\n",
              "      // Send a message to notify the kernel that we're ready.\n",
              "      channel.send({})\n",
              "\n",
              "      for await (const message of channel.messages) {\n",
              "        // Send a message to notify the kernel that we're ready.\n",
              "        channel.send({})\n",
              "        if (message.buffers) {\n",
              "          for (const buffer of message.buffers) {\n",
              "            buffers.push(buffer);\n",
              "            downloaded += buffer.byteLength;\n",
              "            progress.value = downloaded;\n",
              "          }\n",
              "        }\n",
              "      }\n",
              "      const blob = new Blob(buffers, {type: 'application/binary'});\n",
              "      const a = document.createElement('a');\n",
              "      a.href = window.URL.createObjectURL(blob);\n",
              "      a.download = filename;\n",
              "      div.appendChild(a);\n",
              "      a.click();\n",
              "      div.remove();\n",
              "    }\n",
              "  "
            ]
          },
          "metadata": {}
        },
        {
          "output_type": "display_data",
          "data": {
            "text/plain": [
              "<IPython.core.display.Javascript object>"
            ],
            "application/javascript": [
              "download(\"download_e0cdd12f-279b-4746-927e-b67ff0a42088\", \"test.csv\", 112815)"
            ]
          },
          "metadata": {}
        }
      ]
    }
  ]
}